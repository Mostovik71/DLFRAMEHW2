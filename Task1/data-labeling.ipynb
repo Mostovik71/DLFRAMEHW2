{
 "cells": [
  {
   "cell_type": "code",
   "execution_count": 3,
   "metadata": {
    "execution": {
     "iopub.execute_input": "2023-06-12T11:22:38.677066Z",
     "iopub.status.busy": "2023-06-12T11:22:38.676800Z",
     "iopub.status.idle": "2023-06-12T11:22:42.902900Z",
     "shell.execute_reply": "2023-06-12T11:22:42.901689Z",
     "shell.execute_reply.started": "2023-06-12T11:22:38.677043Z"
    }
   },
   "outputs": [],
   "source": [
    "import pandas as pd\n",
    "import numpy as np\n",
    "import torch\n",
    "from tqdm import tqdm"
   ]
  },
  {
   "cell_type": "code",
   "execution_count": 13,
   "metadata": {
    "execution": {
     "iopub.execute_input": "2023-06-12T11:23:55.241692Z",
     "iopub.status.busy": "2023-06-12T11:23:55.241072Z",
     "iopub.status.idle": "2023-06-12T11:23:55.246759Z",
     "shell.execute_reply": "2023-06-12T11:23:55.245709Z",
     "shell.execute_reply.started": "2023-06-12T11:23:55.241657Z"
    }
   },
   "outputs": [],
   "source": [
    "from torch.utils.data import DataLoader, RandomSampler, SequentialSampler, Sampler, TensorDataset"
   ]
  },
  {
   "cell_type": "code",
   "execution_count": 4,
   "metadata": {
    "execution": {
     "iopub.execute_input": "2023-06-12T11:22:42.905486Z",
     "iopub.status.busy": "2023-06-12T11:22:42.904861Z",
     "iopub.status.idle": "2023-06-12T11:23:00.107859Z",
     "shell.execute_reply": "2023-06-12T11:23:00.106879Z",
     "shell.execute_reply.started": "2023-06-12T11:22:42.905451Z"
    }
   },
   "outputs": [
    {
     "data": {
      "application/vnd.jupyter.widget-view+json": {
       "model_id": "61c10e4c789c40469f8ef5f6f58cb28d",
       "version_major": 2,
       "version_minor": 0
      },
      "text/plain": [
       "Downloading (…)okenizer_config.json:   0%|          | 0.00/338 [00:00<?, ?B/s]"
      ]
     },
     "metadata": {},
     "output_type": "display_data"
    },
    {
     "data": {
      "application/vnd.jupyter.widget-view+json": {
       "model_id": "9311b364f05942ba98b287fe38f1cb3c",
       "version_major": 2,
       "version_minor": 0
      },
      "text/plain": [
       "Downloading (…)solve/main/vocab.txt:   0%|          | 0.00/843k [00:00<?, ?B/s]"
      ]
     },
     "metadata": {},
     "output_type": "display_data"
    },
    {
     "data": {
      "application/vnd.jupyter.widget-view+json": {
       "model_id": "8dfefe814a6849e489cc5f2e75c46082",
       "version_major": 2,
       "version_minor": 0
      },
      "text/plain": [
       "Downloading (…)solve/main/bpe.codes:   0%|          | 0.00/1.08M [00:00<?, ?B/s]"
      ]
     },
     "metadata": {},
     "output_type": "display_data"
    },
    {
     "data": {
      "application/vnd.jupyter.widget-view+json": {
       "model_id": "54e03b2bf936479a90bc1f7853a13b55",
       "version_major": 2,
       "version_minor": 0
      },
      "text/plain": [
       "Downloading (…)in/added_tokens.json:   0%|          | 0.00/22.0 [00:00<?, ?B/s]"
      ]
     },
     "metadata": {},
     "output_type": "display_data"
    },
    {
     "data": {
      "application/vnd.jupyter.widget-view+json": {
       "model_id": "4f83d0fa0c1a45de9ecba8d821999722",
       "version_major": 2,
       "version_minor": 0
      },
      "text/plain": [
       "Downloading (…)cial_tokens_map.json:   0%|          | 0.00/167 [00:00<?, ?B/s]"
      ]
     },
     "metadata": {},
     "output_type": "display_data"
    },
    {
     "data": {
      "application/vnd.jupyter.widget-view+json": {
       "model_id": "d83353dd2af84f67a8852623141f6885",
       "version_major": 2,
       "version_minor": 0
      },
      "text/plain": [
       "Downloading (…)lve/main/config.json:   0%|          | 0.00/949 [00:00<?, ?B/s]"
      ]
     },
     "metadata": {},
     "output_type": "display_data"
    },
    {
     "name": "stderr",
     "output_type": "stream",
     "text": [
      "/opt/conda/lib/python3.10/site-packages/tensorflow_io/python/ops/__init__.py:98: UserWarning: unable to load libtensorflow_io_plugins.so: unable to open file: libtensorflow_io_plugins.so, from paths: ['/opt/conda/lib/python3.10/site-packages/tensorflow_io/python/ops/libtensorflow_io_plugins.so']\n",
      "caused by: ['/opt/conda/lib/python3.10/site-packages/tensorflow_io/python/ops/libtensorflow_io_plugins.so: undefined symbol: _ZN3tsl6StatusC1EN10tensorflow5error4CodeESt17basic_string_viewIcSt11char_traitsIcEENS_14SourceLocationE']\n",
      "  warnings.warn(f\"unable to load libtensorflow_io_plugins.so: {e}\")\n",
      "/opt/conda/lib/python3.10/site-packages/tensorflow_io/python/ops/__init__.py:104: UserWarning: file system plugins are not loaded: unable to open file: libtensorflow_io.so, from paths: ['/opt/conda/lib/python3.10/site-packages/tensorflow_io/python/ops/libtensorflow_io.so']\n",
      "caused by: ['/opt/conda/lib/python3.10/site-packages/tensorflow_io/python/ops/libtensorflow_io.so: undefined symbol: _ZTVN10tensorflow13GcsFileSystemE']\n",
      "  warnings.warn(f\"file system plugins are not loaded: {e}\")\n"
     ]
    },
    {
     "data": {
      "application/vnd.jupyter.widget-view+json": {
       "model_id": "74becf4762de4bffbc2a67d6ed94908c",
       "version_major": 2,
       "version_minor": 0
      },
      "text/plain": [
       "Downloading pytorch_model.bin:   0%|          | 0.00/540M [00:00<?, ?B/s]"
      ]
     },
     "metadata": {},
     "output_type": "display_data"
    }
   ],
   "source": [
    "from transformers import AutoTokenizer, AutoModelForSequenceClassification\n",
    "tokenizer = AutoTokenizer.from_pretrained(\"finiteautomata/bertweet-base-sentiment-analysis\")\n",
    "model = AutoModelForSequenceClassification.from_pretrained(\"finiteautomata/bertweet-base-sentiment-analysis\")"
   ]
  },
  {
   "cell_type": "code",
   "execution_count": 5,
   "metadata": {
    "execution": {
     "iopub.execute_input": "2023-06-12T11:23:00.109497Z",
     "iopub.status.busy": "2023-06-12T11:23:00.109151Z",
     "iopub.status.idle": "2023-06-12T11:23:04.966530Z",
     "shell.execute_reply": "2023-06-12T11:23:04.965075Z",
     "shell.execute_reply.started": "2023-06-12T11:23:00.109467Z"
    }
   },
   "outputs": [
    {
     "data": {
      "text/plain": [
       "RobertaForSequenceClassification(\n",
       "  (roberta): RobertaModel(\n",
       "    (embeddings): RobertaEmbeddings(\n",
       "      (word_embeddings): Embedding(64001, 768, padding_idx=1)\n",
       "      (position_embeddings): Embedding(130, 768, padding_idx=1)\n",
       "      (token_type_embeddings): Embedding(1, 768)\n",
       "      (LayerNorm): LayerNorm((768,), eps=1e-05, elementwise_affine=True)\n",
       "      (dropout): Dropout(p=0.1, inplace=False)\n",
       "    )\n",
       "    (encoder): RobertaEncoder(\n",
       "      (layer): ModuleList(\n",
       "        (0-11): 12 x RobertaLayer(\n",
       "          (attention): RobertaAttention(\n",
       "            (self): RobertaSelfAttention(\n",
       "              (query): Linear(in_features=768, out_features=768, bias=True)\n",
       "              (key): Linear(in_features=768, out_features=768, bias=True)\n",
       "              (value): Linear(in_features=768, out_features=768, bias=True)\n",
       "              (dropout): Dropout(p=0.1, inplace=False)\n",
       "            )\n",
       "            (output): RobertaSelfOutput(\n",
       "              (dense): Linear(in_features=768, out_features=768, bias=True)\n",
       "              (LayerNorm): LayerNorm((768,), eps=1e-05, elementwise_affine=True)\n",
       "              (dropout): Dropout(p=0.1, inplace=False)\n",
       "            )\n",
       "          )\n",
       "          (intermediate): RobertaIntermediate(\n",
       "            (dense): Linear(in_features=768, out_features=3072, bias=True)\n",
       "            (intermediate_act_fn): GELUActivation()\n",
       "          )\n",
       "          (output): RobertaOutput(\n",
       "            (dense): Linear(in_features=3072, out_features=768, bias=True)\n",
       "            (LayerNorm): LayerNorm((768,), eps=1e-05, elementwise_affine=True)\n",
       "            (dropout): Dropout(p=0.1, inplace=False)\n",
       "          )\n",
       "        )\n",
       "      )\n",
       "    )\n",
       "  )\n",
       "  (classifier): RobertaClassificationHead(\n",
       "    (dense): Linear(in_features=768, out_features=768, bias=True)\n",
       "    (dropout): Dropout(p=0.1, inplace=False)\n",
       "    (out_proj): Linear(in_features=768, out_features=3, bias=True)\n",
       "  )\n",
       ")"
      ]
     },
     "execution_count": 5,
     "metadata": {},
     "output_type": "execute_result"
    }
   ],
   "source": [
    "model.to('cuda:0')"
   ]
  },
  {
   "cell_type": "code",
   "execution_count": 6,
   "metadata": {
    "execution": {
     "iopub.execute_input": "2023-06-12T11:23:04.969651Z",
     "iopub.status.busy": "2023-06-12T11:23:04.969086Z",
     "iopub.status.idle": "2023-06-12T11:23:05.987114Z",
     "shell.execute_reply": "2023-06-12T11:23:05.985347Z",
     "shell.execute_reply.started": "2023-06-12T11:23:04.969617Z"
    }
   },
   "outputs": [],
   "source": [
    "df = pd.read_csv('/kaggle/input/nlpdlfr/films_prepared_v3.csv')"
   ]
  },
  {
   "cell_type": "code",
   "execution_count": 7,
   "metadata": {
    "execution": {
     "iopub.execute_input": "2023-06-12T11:23:05.988903Z",
     "iopub.status.busy": "2023-06-12T11:23:05.988555Z",
     "iopub.status.idle": "2023-06-12T11:23:06.379965Z",
     "shell.execute_reply": "2023-06-12T11:23:06.378703Z",
     "shell.execute_reply.started": "2023-06-12T11:23:05.988870Z"
    }
   },
   "outputs": [],
   "source": [
    "df.drop('characters.1', inplace=True, axis=1)"
   ]
  },
  {
   "cell_type": "code",
   "execution_count": 8,
   "metadata": {
    "execution": {
     "iopub.execute_input": "2023-06-12T11:23:06.385838Z",
     "iopub.status.busy": "2023-06-12T11:23:06.384999Z",
     "iopub.status.idle": "2023-06-12T11:23:11.165767Z",
     "shell.execute_reply": "2023-06-12T11:23:11.164672Z",
     "shell.execute_reply.started": "2023-06-12T11:23:06.385801Z"
    }
   },
   "outputs": [
    {
     "name": "stderr",
     "output_type": "stream",
     "text": [
      "/tmp/ipykernel_28/3879652195.py:10: SettingWithCopyWarning: \n",
      "A value is trying to be set on a copy of a slice from a DataFrame\n",
      "\n",
      "See the caveats in the documentation: https://pandas.pydata.org/pandas-docs/stable/user_guide/indexing.html#returning-a-view-versus-a-copy\n",
      "  df_new.dropna(inplace=True)\n"
     ]
    }
   ],
   "source": [
    "df.replics = df.replics.apply(lambda x: eval(x))\n",
    "df.chrono = df.chrono.apply(lambda x: eval(x))\n",
    "df.characters = df.characters.apply(lambda x: eval(x))\n",
    "df.genders = df.genders.apply(lambda x: eval(x))\n",
    "df.genders = df.genders.apply(lambda x: x if '?' not in x else np.nan)\n",
    "\n",
    "df['replics_len'] = df.replics.apply(lambda x: len(x))\n",
    "\n",
    "df_new = df[df.replics_len < 5]\n",
    "df_new.dropna(inplace=True)\n",
    "df_new = df_new.sample(200, random_state=18) # Выберем 200 диалогов небольшой длины\n",
    "df_new.reset_index(inplace=True, drop=True)"
   ]
  },
  {
   "cell_type": "code",
   "execution_count": 9,
   "metadata": {
    "execution": {
     "iopub.execute_input": "2023-06-12T11:23:11.167807Z",
     "iopub.status.busy": "2023-06-12T11:23:11.167388Z",
     "iopub.status.idle": "2023-06-12T11:23:11.209464Z",
     "shell.execute_reply": "2023-06-12T11:23:11.208265Z",
     "shell.execute_reply.started": "2023-06-12T11:23:11.167768Z"
    }
   },
   "outputs": [
    {
     "data": {
      "text/html": [
       "<div>\n",
       "<style scoped>\n",
       "    .dataframe tbody tr th:only-of-type {\n",
       "        vertical-align: middle;\n",
       "    }\n",
       "\n",
       "    .dataframe tbody tr th {\n",
       "        vertical-align: top;\n",
       "    }\n",
       "\n",
       "    .dataframe thead th {\n",
       "        text-align: right;\n",
       "    }\n",
       "</style>\n",
       "<table border=\"1\" class=\"dataframe\">\n",
       "  <thead>\n",
       "    <tr style=\"text-align: right;\">\n",
       "      <th></th>\n",
       "      <th>movieID</th>\n",
       "      <th>chrono</th>\n",
       "      <th>characters</th>\n",
       "      <th>genders</th>\n",
       "      <th>replics</th>\n",
       "      <th>movie_title</th>\n",
       "      <th>genres</th>\n",
       "      <th>replics_len</th>\n",
       "    </tr>\n",
       "  </thead>\n",
       "  <tbody>\n",
       "    <tr>\n",
       "      <th>0</th>\n",
       "      <td>m615</td>\n",
       "      <td>[L665758, L665759, L665760, L665761]</td>\n",
       "      <td>[u9017, u9019, u9017, u9019]</td>\n",
       "      <td>[M, m, M, m]</td>\n",
       "      <td>[The ancient masters promised impossibilities ...</td>\n",
       "      <td>young frankenstein</td>\n",
       "      <td>['comedy', 'sci-fi']</td>\n",
       "      <td>4</td>\n",
       "    </tr>\n",
       "    <tr>\n",
       "      <th>1</th>\n",
       "      <td>m188</td>\n",
       "      <td>[L522640, L522641]</td>\n",
       "      <td>[u2852, u2860]</td>\n",
       "      <td>[f, m]</td>\n",
       "      <td>[Tommy...!, I'm all right.]</td>\n",
       "      <td>someone to watch over me</td>\n",
       "      <td>['action', 'crime', 'drama', 'romance', 'thril...</td>\n",
       "      <td>2</td>\n",
       "    </tr>\n",
       "    <tr>\n",
       "      <th>2</th>\n",
       "      <td>m401</td>\n",
       "      <td>[L309132, L309133]</td>\n",
       "      <td>[u6033, u6035]</td>\n",
       "      <td>[m, f]</td>\n",
       "      <td>[I don't think so Thea. He has spoken of your ...</td>\n",
       "      <td>isle of the dead</td>\n",
       "      <td>['drama', 'horror', 'mystery', 'thriller']</td>\n",
       "      <td>2</td>\n",
       "    </tr>\n",
       "    <tr>\n",
       "      <th>3</th>\n",
       "      <td>m570</td>\n",
       "      <td>[L609752, L609753, L609754, L609755]</td>\n",
       "      <td>[u8410, u8409, u8410, u8409]</td>\n",
       "      <td>[f, M, f, M]</td>\n",
       "      <td>[We're American soldiers.  We don't abandon pe...</td>\n",
       "      <td>three kings</td>\n",
       "      <td>['action', 'adventure', 'comedy', 'drama', 'war']</td>\n",
       "      <td>4</td>\n",
       "    </tr>\n",
       "    <tr>\n",
       "      <th>4</th>\n",
       "      <td>m235</td>\n",
       "      <td>[L15348, L15349]</td>\n",
       "      <td>[u3572, u3574]</td>\n",
       "      <td>[m, m]</td>\n",
       "      <td>[Eh. I thought you were looking after the old ...</td>\n",
       "      <td>a hard day's night</td>\n",
       "      <td>['comedy', 'music']</td>\n",
       "      <td>2</td>\n",
       "    </tr>\n",
       "    <tr>\n",
       "      <th>...</th>\n",
       "      <td>...</td>\n",
       "      <td>...</td>\n",
       "      <td>...</td>\n",
       "      <td>...</td>\n",
       "      <td>...</td>\n",
       "      <td>...</td>\n",
       "      <td>...</td>\n",
       "      <td>...</td>\n",
       "    </tr>\n",
       "    <tr>\n",
       "      <th>195</th>\n",
       "      <td>m403</td>\n",
       "      <td>[L320137, L320138, L320139]</td>\n",
       "      <td>[u6068, u6074, u6068]</td>\n",
       "      <td>[m, f, m]</td>\n",
       "      <td>[Sean's awake., Door's locked., Good.]</td>\n",
       "      <td>jaws 2</td>\n",
       "      <td>['thriller']</td>\n",
       "      <td>3</td>\n",
       "    </tr>\n",
       "    <tr>\n",
       "      <th>196</th>\n",
       "      <td>m218</td>\n",
       "      <td>[L607479, L607480]</td>\n",
       "      <td>[u3299, u3293]</td>\n",
       "      <td>[m, m]</td>\n",
       "      <td>[Let's get out of here., Cheer up you've neutr...</td>\n",
       "      <td>thirteen days</td>\n",
       "      <td>['drama', 'history', 'thriller']</td>\n",
       "      <td>2</td>\n",
       "    </tr>\n",
       "    <tr>\n",
       "      <th>197</th>\n",
       "      <td>m427</td>\n",
       "      <td>[L359662, L359663]</td>\n",
       "      <td>[u6413, u6410]</td>\n",
       "      <td>[m, f]</td>\n",
       "      <td>[It's okay little baby., Quit.]</td>\n",
       "      <td>love &amp; basketball</td>\n",
       "      <td>['drama', 'romance', 'sport']</td>\n",
       "      <td>2</td>\n",
       "    </tr>\n",
       "    <tr>\n",
       "      <th>198</th>\n",
       "      <td>m90</td>\n",
       "      <td>[L284854, L284855]</td>\n",
       "      <td>[u1357, u1364]</td>\n",
       "      <td>[m, f]</td>\n",
       "      <td>[When did you deliver this first?, Who did you...</td>\n",
       "      <td>his girl friday</td>\n",
       "      <td>['comedy', 'drama', 'romance']</td>\n",
       "      <td>2</td>\n",
       "    </tr>\n",
       "    <tr>\n",
       "      <th>199</th>\n",
       "      <td>m330</td>\n",
       "      <td>[L176226, L176227, L176228]</td>\n",
       "      <td>[u4960, u4969, u4960]</td>\n",
       "      <td>[m, m, m]</td>\n",
       "      <td>[All right., Yeah?!, Yeah.]</td>\n",
       "      <td>edtv</td>\n",
       "      <td>['comedy']</td>\n",
       "      <td>3</td>\n",
       "    </tr>\n",
       "  </tbody>\n",
       "</table>\n",
       "<p>200 rows × 8 columns</p>\n",
       "</div>"
      ],
      "text/plain": [
       "    movieID                                chrono  \\\n",
       "0      m615  [L665758, L665759, L665760, L665761]   \n",
       "1      m188                    [L522640, L522641]   \n",
       "2      m401                    [L309132, L309133]   \n",
       "3      m570  [L609752, L609753, L609754, L609755]   \n",
       "4      m235                      [L15348, L15349]   \n",
       "..      ...                                   ...   \n",
       "195    m403           [L320137, L320138, L320139]   \n",
       "196    m218                    [L607479, L607480]   \n",
       "197    m427                    [L359662, L359663]   \n",
       "198     m90                    [L284854, L284855]   \n",
       "199    m330           [L176226, L176227, L176228]   \n",
       "\n",
       "                       characters       genders  \\\n",
       "0    [u9017, u9019, u9017, u9019]  [M, m, M, m]   \n",
       "1                  [u2852, u2860]        [f, m]   \n",
       "2                  [u6033, u6035]        [m, f]   \n",
       "3    [u8410, u8409, u8410, u8409]  [f, M, f, M]   \n",
       "4                  [u3572, u3574]        [m, m]   \n",
       "..                            ...           ...   \n",
       "195         [u6068, u6074, u6068]     [m, f, m]   \n",
       "196                [u3299, u3293]        [m, m]   \n",
       "197                [u6413, u6410]        [m, f]   \n",
       "198                [u1357, u1364]        [m, f]   \n",
       "199         [u4960, u4969, u4960]     [m, m, m]   \n",
       "\n",
       "                                               replics  \\\n",
       "0    [The ancient masters promised impossibilities ...   \n",
       "1                          [Tommy...!, I'm all right.]   \n",
       "2    [I don't think so Thea. He has spoken of your ...   \n",
       "3    [We're American soldiers.  We don't abandon pe...   \n",
       "4    [Eh. I thought you were looking after the old ...   \n",
       "..                                                 ...   \n",
       "195             [Sean's awake., Door's locked., Good.]   \n",
       "196  [Let's get out of here., Cheer up you've neutr...   \n",
       "197                    [It's okay little baby., Quit.]   \n",
       "198  [When did you deliver this first?, Who did you...   \n",
       "199                        [All right., Yeah?!, Yeah.]   \n",
       "\n",
       "                  movie_title  \\\n",
       "0          young frankenstein   \n",
       "1    someone to watch over me   \n",
       "2            isle of the dead   \n",
       "3                 three kings   \n",
       "4          a hard day's night   \n",
       "..                        ...   \n",
       "195                    jaws 2   \n",
       "196             thirteen days   \n",
       "197         love & basketball   \n",
       "198           his girl friday   \n",
       "199                      edtv   \n",
       "\n",
       "                                                genres  replics_len  \n",
       "0                                 ['comedy', 'sci-fi']            4  \n",
       "1    ['action', 'crime', 'drama', 'romance', 'thril...            2  \n",
       "2           ['drama', 'horror', 'mystery', 'thriller']            2  \n",
       "3    ['action', 'adventure', 'comedy', 'drama', 'war']            4  \n",
       "4                                  ['comedy', 'music']            2  \n",
       "..                                                 ...          ...  \n",
       "195                                       ['thriller']            3  \n",
       "196                   ['drama', 'history', 'thriller']            2  \n",
       "197                      ['drama', 'romance', 'sport']            2  \n",
       "198                     ['comedy', 'drama', 'romance']            2  \n",
       "199                                         ['comedy']            3  \n",
       "\n",
       "[200 rows x 8 columns]"
      ]
     },
     "execution_count": 9,
     "metadata": {},
     "output_type": "execute_result"
    }
   ],
   "source": [
    "df_new"
   ]
  },
  {
   "cell_type": "code",
   "execution_count": 10,
   "metadata": {
    "execution": {
     "iopub.execute_input": "2023-06-12T11:23:11.213117Z",
     "iopub.status.busy": "2023-06-12T11:23:11.212693Z",
     "iopub.status.idle": "2023-06-12T11:23:11.404768Z",
     "shell.execute_reply": "2023-06-12T11:23:11.403703Z",
     "shell.execute_reply.started": "2023-06-12T11:23:11.213078Z"
    }
   },
   "outputs": [],
   "source": [
    "def convert_to_dataset_torch(data: str):\n",
    "    input_ids = []\n",
    "    attention_masks = []\n",
    "    \n",
    "    encoded_dict = tokenizer.encode_plus(data, \n",
    "                                             max_length=130,\n",
    "                                             pad_to_max_length=True,\n",
    "                                             return_attention_mask=True, \n",
    "                                             return_tensors='pt', \n",
    "                                             truncation=True)\n",
    "\n",
    "    input_ids.append(encoded_dict['input_ids'])\n",
    "\n",
    "    attention_masks.append(encoded_dict['attention_mask'])\n",
    "        \n",
    "    input_ids = torch.cat(input_ids, dim=0)\n",
    "    attention_masks = torch.cat(attention_masks, dim=0)\n",
    "    input_ids.to(dtype=torch.long)\n",
    "    attention_masks.to(dtype=torch.long)\n",
    "    \n",
    "    return input_ids, attention_masks"
   ]
  },
  {
   "cell_type": "code",
   "execution_count": 11,
   "metadata": {
    "execution": {
     "iopub.execute_input": "2023-06-12T11:23:11.406415Z",
     "iopub.status.busy": "2023-06-12T11:23:11.406081Z",
     "iopub.status.idle": "2023-06-12T11:23:11.417107Z",
     "shell.execute_reply": "2023-06-12T11:23:11.416240Z",
     "shell.execute_reply.started": "2023-06-12T11:23:11.406379Z"
    }
   },
   "outputs": [],
   "source": [
    "labels = [\n",
    "    'Positive',\n",
    "    'Negative',\n",
    "    'Neutral'\n",
    "]\n",
    "mapping = {i: k for i, k in enumerate(labels)}"
   ]
  },
  {
   "cell_type": "code",
   "execution_count": 10,
   "metadata": {
    "execution": {
     "iopub.execute_input": "2023-06-11T18:13:27.070909Z",
     "iopub.status.busy": "2023-06-11T18:13:27.070521Z",
     "iopub.status.idle": "2023-06-11T18:13:34.817406Z",
     "shell.execute_reply": "2023-06-11T18:13:34.816374Z",
     "shell.execute_reply.started": "2023-06-11T18:13:27.070876Z"
    }
   },
   "outputs": [
    {
     "name": "stderr",
     "output_type": "stream",
     "text": [
      "  0%|          | 0/200 [00:00<?, ?it/s]/opt/conda/lib/python3.10/site-packages/transformers/tokenization_utils_base.py:2364: FutureWarning: The `pad_to_max_length` argument is deprecated and will be removed in a future version, use `padding=True` or `padding='longest'` to pad to the longest sequence in the batch, or use `padding='max_length'` to pad to a max length. In this case, you can give a specific length with `max_length` (e.g. `max_length=45`) or leave max_length to None to pad to the maximal input size of the model (e.g. 512 for Bert).\n",
      "  warnings.warn(\n",
      "/tmp/ipykernel_29/2488892409.py:8: UserWarning: Implicit dimension choice for softmax has been deprecated. Change the call to include dim=X as an argument.\n",
      "  predictions = torch.argmax(torch.nn.Softmax()(preds), axis=1)\n",
      "100%|██████████| 200/200 [00:07<00:00, 25.85it/s]\n"
     ]
    }
   ],
   "source": [
    "# Разметка данных\n",
    "\n",
    "preds_all = []\n",
    "for i in tqdm(df_new.replics):\n",
    "    preds_dial = []\n",
    "    for k in i:\n",
    "        converted = convert_to_dataset_torch(k)\n",
    "        preds = model(input_ids=converted[0].to('cuda:0'), \n",
    "                      attention_mask=converted[1].to('cuda:0')).logits\n",
    "        predictions = torch.argmax(torch.nn.Softmax()(preds), axis=1)\n",
    "        preds_dial.append(predictions.item())\n",
    "    preds_all.append(preds_dial)\n",
    "        \n",
    "      "
   ]
  },
  {
   "cell_type": "code",
   "execution_count": 11,
   "metadata": {
    "execution": {
     "iopub.execute_input": "2023-06-11T18:13:38.211153Z",
     "iopub.status.busy": "2023-06-11T18:13:38.210782Z",
     "iopub.status.idle": "2023-06-11T18:13:38.216443Z",
     "shell.execute_reply": "2023-06-11T18:13:38.215469Z",
     "shell.execute_reply.started": "2023-06-11T18:13:38.211125Z"
    }
   },
   "outputs": [],
   "source": [
    "df_new['predictions'] = pd.Series(preds_all)"
   ]
  },
  {
   "cell_type": "code",
   "execution_count": 12,
   "metadata": {
    "execution": {
     "iopub.execute_input": "2023-06-11T18:13:46.283351Z",
     "iopub.status.busy": "2023-06-11T18:13:46.282973Z",
     "iopub.status.idle": "2023-06-11T18:13:46.320055Z",
     "shell.execute_reply": "2023-06-11T18:13:46.319083Z",
     "shell.execute_reply.started": "2023-06-11T18:13:46.283324Z"
    }
   },
   "outputs": [
    {
     "data": {
      "text/html": [
       "<div>\n",
       "<style scoped>\n",
       "    .dataframe tbody tr th:only-of-type {\n",
       "        vertical-align: middle;\n",
       "    }\n",
       "\n",
       "    .dataframe tbody tr th {\n",
       "        vertical-align: top;\n",
       "    }\n",
       "\n",
       "    .dataframe thead th {\n",
       "        text-align: right;\n",
       "    }\n",
       "</style>\n",
       "<table border=\"1\" class=\"dataframe\">\n",
       "  <thead>\n",
       "    <tr style=\"text-align: right;\">\n",
       "      <th></th>\n",
       "      <th>movieID</th>\n",
       "      <th>chrono</th>\n",
       "      <th>characters</th>\n",
       "      <th>genders</th>\n",
       "      <th>replics</th>\n",
       "      <th>movie_title</th>\n",
       "      <th>genres</th>\n",
       "      <th>replics_len</th>\n",
       "      <th>predictions</th>\n",
       "    </tr>\n",
       "  </thead>\n",
       "  <tbody>\n",
       "    <tr>\n",
       "      <th>0</th>\n",
       "      <td>m615</td>\n",
       "      <td>[L665758, L665759, L665760, L665761]</td>\n",
       "      <td>[u9017, u9019, u9017, u9019]</td>\n",
       "      <td>[M, m, M, m]</td>\n",
       "      <td>[The ancient masters promised impossibilities ...</td>\n",
       "      <td>young frankenstein</td>\n",
       "      <td>['comedy', 'sci-fi']</td>\n",
       "      <td>4</td>\n",
       "      <td>[1, 1, 2, 2]</td>\n",
       "    </tr>\n",
       "    <tr>\n",
       "      <th>1</th>\n",
       "      <td>m188</td>\n",
       "      <td>[L522640, L522641]</td>\n",
       "      <td>[u2852, u2860]</td>\n",
       "      <td>[f, m]</td>\n",
       "      <td>[Tommy...!, I'm all right.]</td>\n",
       "      <td>someone to watch over me</td>\n",
       "      <td>['action', 'crime', 'drama', 'romance', 'thril...</td>\n",
       "      <td>2</td>\n",
       "      <td>[1, 2]</td>\n",
       "    </tr>\n",
       "    <tr>\n",
       "      <th>2</th>\n",
       "      <td>m401</td>\n",
       "      <td>[L309132, L309133]</td>\n",
       "      <td>[u6033, u6035]</td>\n",
       "      <td>[m, f]</td>\n",
       "      <td>[I don't think so Thea. He has spoken of your ...</td>\n",
       "      <td>isle of the dead</td>\n",
       "      <td>['drama', 'horror', 'mystery', 'thriller']</td>\n",
       "      <td>2</td>\n",
       "      <td>[1, 0]</td>\n",
       "    </tr>\n",
       "    <tr>\n",
       "      <th>3</th>\n",
       "      <td>m570</td>\n",
       "      <td>[L609752, L609753, L609754, L609755]</td>\n",
       "      <td>[u8410, u8409, u8410, u8409]</td>\n",
       "      <td>[f, M, f, M]</td>\n",
       "      <td>[We're American soldiers.  We don't abandon pe...</td>\n",
       "      <td>three kings</td>\n",
       "      <td>['action', 'adventure', 'comedy', 'drama', 'war']</td>\n",
       "      <td>4</td>\n",
       "      <td>[2, 1, 0, 1]</td>\n",
       "    </tr>\n",
       "    <tr>\n",
       "      <th>4</th>\n",
       "      <td>m235</td>\n",
       "      <td>[L15348, L15349]</td>\n",
       "      <td>[u3572, u3574]</td>\n",
       "      <td>[m, m]</td>\n",
       "      <td>[Eh. I thought you were looking after the old ...</td>\n",
       "      <td>a hard day's night</td>\n",
       "      <td>['comedy', 'music']</td>\n",
       "      <td>2</td>\n",
       "      <td>[0, 1]</td>\n",
       "    </tr>\n",
       "    <tr>\n",
       "      <th>...</th>\n",
       "      <td>...</td>\n",
       "      <td>...</td>\n",
       "      <td>...</td>\n",
       "      <td>...</td>\n",
       "      <td>...</td>\n",
       "      <td>...</td>\n",
       "      <td>...</td>\n",
       "      <td>...</td>\n",
       "      <td>...</td>\n",
       "    </tr>\n",
       "    <tr>\n",
       "      <th>195</th>\n",
       "      <td>m403</td>\n",
       "      <td>[L320137, L320138, L320139]</td>\n",
       "      <td>[u6068, u6074, u6068]</td>\n",
       "      <td>[m, f, m]</td>\n",
       "      <td>[Sean's awake., Door's locked., Good.]</td>\n",
       "      <td>jaws 2</td>\n",
       "      <td>['thriller']</td>\n",
       "      <td>3</td>\n",
       "      <td>[1, 0, 2]</td>\n",
       "    </tr>\n",
       "    <tr>\n",
       "      <th>196</th>\n",
       "      <td>m218</td>\n",
       "      <td>[L607479, L607480]</td>\n",
       "      <td>[u3299, u3293]</td>\n",
       "      <td>[m, m]</td>\n",
       "      <td>[Let's get out of here., Cheer up you've neutr...</td>\n",
       "      <td>thirteen days</td>\n",
       "      <td>['drama', 'history', 'thriller']</td>\n",
       "      <td>2</td>\n",
       "      <td>[1, 2]</td>\n",
       "    </tr>\n",
       "    <tr>\n",
       "      <th>197</th>\n",
       "      <td>m427</td>\n",
       "      <td>[L359662, L359663]</td>\n",
       "      <td>[u6413, u6410]</td>\n",
       "      <td>[m, f]</td>\n",
       "      <td>[It's okay little baby., Quit.]</td>\n",
       "      <td>love &amp; basketball</td>\n",
       "      <td>['drama', 'romance', 'sport']</td>\n",
       "      <td>2</td>\n",
       "      <td>[2, 0]</td>\n",
       "    </tr>\n",
       "    <tr>\n",
       "      <th>198</th>\n",
       "      <td>m90</td>\n",
       "      <td>[L284854, L284855]</td>\n",
       "      <td>[u1357, u1364]</td>\n",
       "      <td>[m, f]</td>\n",
       "      <td>[When did you deliver this first?, Who did you...</td>\n",
       "      <td>his girl friday</td>\n",
       "      <td>['comedy', 'drama', 'romance']</td>\n",
       "      <td>2</td>\n",
       "      <td>[1, 1]</td>\n",
       "    </tr>\n",
       "    <tr>\n",
       "      <th>199</th>\n",
       "      <td>m330</td>\n",
       "      <td>[L176226, L176227, L176228]</td>\n",
       "      <td>[u4960, u4969, u4960]</td>\n",
       "      <td>[m, m, m]</td>\n",
       "      <td>[All right., Yeah?!, Yeah.]</td>\n",
       "      <td>edtv</td>\n",
       "      <td>['comedy']</td>\n",
       "      <td>3</td>\n",
       "      <td>[1, 2, 2]</td>\n",
       "    </tr>\n",
       "  </tbody>\n",
       "</table>\n",
       "<p>200 rows × 9 columns</p>\n",
       "</div>"
      ],
      "text/plain": [
       "    movieID                                chrono  \\\n",
       "0      m615  [L665758, L665759, L665760, L665761]   \n",
       "1      m188                    [L522640, L522641]   \n",
       "2      m401                    [L309132, L309133]   \n",
       "3      m570  [L609752, L609753, L609754, L609755]   \n",
       "4      m235                      [L15348, L15349]   \n",
       "..      ...                                   ...   \n",
       "195    m403           [L320137, L320138, L320139]   \n",
       "196    m218                    [L607479, L607480]   \n",
       "197    m427                    [L359662, L359663]   \n",
       "198     m90                    [L284854, L284855]   \n",
       "199    m330           [L176226, L176227, L176228]   \n",
       "\n",
       "                       characters       genders  \\\n",
       "0    [u9017, u9019, u9017, u9019]  [M, m, M, m]   \n",
       "1                  [u2852, u2860]        [f, m]   \n",
       "2                  [u6033, u6035]        [m, f]   \n",
       "3    [u8410, u8409, u8410, u8409]  [f, M, f, M]   \n",
       "4                  [u3572, u3574]        [m, m]   \n",
       "..                            ...           ...   \n",
       "195         [u6068, u6074, u6068]     [m, f, m]   \n",
       "196                [u3299, u3293]        [m, m]   \n",
       "197                [u6413, u6410]        [m, f]   \n",
       "198                [u1357, u1364]        [m, f]   \n",
       "199         [u4960, u4969, u4960]     [m, m, m]   \n",
       "\n",
       "                                               replics  \\\n",
       "0    [The ancient masters promised impossibilities ...   \n",
       "1                          [Tommy...!, I'm all right.]   \n",
       "2    [I don't think so Thea. He has spoken of your ...   \n",
       "3    [We're American soldiers.  We don't abandon pe...   \n",
       "4    [Eh. I thought you were looking after the old ...   \n",
       "..                                                 ...   \n",
       "195             [Sean's awake., Door's locked., Good.]   \n",
       "196  [Let's get out of here., Cheer up you've neutr...   \n",
       "197                    [It's okay little baby., Quit.]   \n",
       "198  [When did you deliver this first?, Who did you...   \n",
       "199                        [All right., Yeah?!, Yeah.]   \n",
       "\n",
       "                  movie_title  \\\n",
       "0          young frankenstein   \n",
       "1    someone to watch over me   \n",
       "2            isle of the dead   \n",
       "3                 three kings   \n",
       "4          a hard day's night   \n",
       "..                        ...   \n",
       "195                    jaws 2   \n",
       "196             thirteen days   \n",
       "197         love & basketball   \n",
       "198           his girl friday   \n",
       "199                      edtv   \n",
       "\n",
       "                                                genres  replics_len  \\\n",
       "0                                 ['comedy', 'sci-fi']            4   \n",
       "1    ['action', 'crime', 'drama', 'romance', 'thril...            2   \n",
       "2           ['drama', 'horror', 'mystery', 'thriller']            2   \n",
       "3    ['action', 'adventure', 'comedy', 'drama', 'war']            4   \n",
       "4                                  ['comedy', 'music']            2   \n",
       "..                                                 ...          ...   \n",
       "195                                       ['thriller']            3   \n",
       "196                   ['drama', 'history', 'thriller']            2   \n",
       "197                      ['drama', 'romance', 'sport']            2   \n",
       "198                     ['comedy', 'drama', 'romance']            2   \n",
       "199                                         ['comedy']            3   \n",
       "\n",
       "      predictions  \n",
       "0    [1, 1, 2, 2]  \n",
       "1          [1, 2]  \n",
       "2          [1, 0]  \n",
       "3    [2, 1, 0, 1]  \n",
       "4          [0, 1]  \n",
       "..            ...  \n",
       "195     [1, 0, 2]  \n",
       "196        [1, 2]  \n",
       "197        [2, 0]  \n",
       "198        [1, 1]  \n",
       "199     [1, 2, 2]  \n",
       "\n",
       "[200 rows x 9 columns]"
      ]
     },
     "execution_count": 12,
     "metadata": {},
     "output_type": "execute_result"
    }
   ],
   "source": [
    "df_new"
   ]
  },
  {
   "cell_type": "code",
   "execution_count": 13,
   "metadata": {
    "execution": {
     "iopub.execute_input": "2023-06-11T18:14:04.721716Z",
     "iopub.status.busy": "2023-06-11T18:14:04.721333Z",
     "iopub.status.idle": "2023-06-11T18:14:04.734202Z",
     "shell.execute_reply": "2023-06-11T18:14:04.733116Z",
     "shell.execute_reply.started": "2023-06-11T18:14:04.721687Z"
    }
   },
   "outputs": [],
   "source": [
    "df_new.to_csv('labeled_v2.csv')"
   ]
  },
  {
   "cell_type": "code",
   "execution_count": null,
   "metadata": {},
   "outputs": [],
   "source": []
  }
 ],
 "metadata": {
  "kernelspec": {
   "display_name": "Python 3 (ipykernel)",
   "language": "python",
   "name": "python3"
  },
  "language_info": {
   "codemirror_mode": {
    "name": "ipython",
    "version": 3
   },
   "file_extension": ".py",
   "mimetype": "text/x-python",
   "name": "python",
   "nbconvert_exporter": "python",
   "pygments_lexer": "ipython3",
   "version": "3.9.10"
  }
 },
 "nbformat": 4,
 "nbformat_minor": 4
}
