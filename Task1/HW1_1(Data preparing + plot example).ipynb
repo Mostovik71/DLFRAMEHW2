{
 "cells": [
  {
   "cell_type": "code",
   "execution_count": 1,
   "id": "d32f05a0",
   "metadata": {},
   "outputs": [
    {
     "name": "stderr",
     "output_type": "stream",
     "text": [
      "C:\\Users\\mosto\\AppData\\Local\\Programs\\Python\\Python39\\lib\\site-packages\\tqdm\\auto.py:22: TqdmWarning: IProgress not found. Please update jupyter and ipywidgets. See https://ipywidgets.readthedocs.io/en/stable/user_install.html\n",
      "  from .autonotebook import tqdm as notebook_tqdm\n"
     ]
    }
   ],
   "source": [
    "import pandas as pd\n",
    "import ast\n",
    "import torch\n",
    "from tqdm import tqdm"
   ]
  },
  {
   "cell_type": "code",
   "execution_count": 30,
   "id": "61dd7ffd",
   "metadata": {},
   "outputs": [
    {
     "name": "stderr",
     "output_type": "stream",
     "text": [
      "C:\\Users\\mosto\\AppData\\Local\\Programs\\Python\\Python39\\lib\\site-packages\\IPython\\core\\interactiveshell.py:3369: FutureWarning: The warn_bad_lines argument has been deprecated and will be removed in a future version.\n",
      "\n",
      "\n",
      "  exec(code_obj, self.user_global_ns, self.user_ns)\n",
      "C:\\Users\\mosto\\AppData\\Local\\Programs\\Python\\Python39\\lib\\site-packages\\IPython\\core\\interactiveshell.py:3369: FutureWarning: The error_bad_lines argument has been deprecated and will be removed in a future version.\n",
      "\n",
      "\n",
      "  exec(code_obj, self.user_global_ns, self.user_ns)\n"
     ]
    }
   ],
   "source": [
    "characters = pd.read_csv('../data/IMDB/movie_characters_metadata.tsv',\n",
    "                         sep='\\t',\n",
    "                         warn_bad_lines=False,\n",
    "                         error_bad_lines=False,\n",
    "                         header=None\n",
    "                         )\n",
    "conversations = pd.read_csv('../data/IMDB/movie_conversations.tsv',\n",
    "                            sep='\\t',\n",
    "                            warn_bad_lines=False,\n",
    "                            error_bad_lines=False,\n",
    "                            header=None\n",
    "                            )\n",
    "\n",
    "lines = pd.read_csv('../data/IMDB/movie_lines.tsv',\n",
    "                    sep='\\t',\n",
    "                    warn_bad_lines=False,\n",
    "                    error_bad_lines=False,\n",
    "                    header=None\n",
    "                    )\n",
    "titles = pd.read_csv('../data/IMDB/movie_titles_metadata.tsv',\n",
    "                     sep='\\t',\n",
    "                     warn_bad_lines=False,\n",
    "                     error_bad_lines=False,\n",
    "                     header=None\n",
    "                     )\n",
    "\n",
    "characters.columns = ['characterID', 'character', 'movieID', 'movie_title',\n",
    "                      'gender',\n",
    "                      'position']\n",
    "conversations.columns = ['characterID_1', 'characterID_2', 'movieID', 'chrono']\n",
    "lines.columns = ['lineID', 'characterID', 'movieID', 'character', 'text']\n",
    "titles.columns = ['movieID', 'movie_title', 'movie_year', 'rating', 'imdb_votes', 'genres']\n",
    "\n",
    "lines.dropna(inplace=True)\n",
    "conversations.dropna(inplace=True)\n",
    "titles.dropna(inplace=True)\n",
    "characters.dropna(inplace=True)"
   ]
  },
  {
   "cell_type": "code",
   "execution_count": 2,
   "id": "c9defb55",
   "metadata": {},
   "outputs": [],
   "source": [
    "def chrn(s, delim=' '):\n",
    "    s1 = ast.literal_eval(s)\n",
    "    to_ret = [delim + i for i in s1[0].split(delim)[1:]]\n",
    "    return to_ret"
   ]
  },
  {
   "cell_type": "code",
   "execution_count": 3,
   "id": "06db4fa1",
   "metadata": {},
   "outputs": [],
   "source": [
    "def gnr(s):\n",
    "    to_ret = [i[1:-1] for i in s.strip('][').split(' ')]\n",
    "    return to_ret"
   ]
  },
  {
   "cell_type": "code",
   "execution_count": 34,
   "id": "12e6c5b8",
   "metadata": {},
   "outputs": [],
   "source": [
    "Task 1. Data preparing\n",
    "\n",
    "lns_chrs = dict(zip(lines.lineID, lines.characterID)) # Маппинг персонажей\n",
    "lns = dict(zip(lines.lineID, lines.text)) # Маппинг текста\n",
    "chars = dict(zip(characters.characterID, characters.character)) # Маппинг имен\n",
    "floor = dict(zip(characters.characterID, characters.gender)) # Маппинг пола\n",
    "\n",
    "titles['genres'] = titles['genres'].apply(lambda x: gnr(x))\n",
    "titles_new = titles[['movieID', 'movie_title', 'genres']]\n",
    "\n",
    "conversations['chrono'] = conversations['chrono'].apply(lambda x: chrn(x, delim='L'))\n",
    "conversations['characters'] = conversations['chrono'].apply(lambda x: [lns_chrs[i] if i \\\n",
    "                                                                       in lns_chrs.keys() else 'unknown_character' for i in x])\n",
    "\n",
    "conversations['genders'] = conversations['characters'].apply(lambda x: [floor[i] if i \\\n",
    "                                                                        in floor.keys() else '?' for i in x])\n",
    "\n",
    "conversations['replics'] = conversations['chrono'].apply(lambda x: [lns[i] if i \\\n",
    "                                                                    in lns.keys() else 'unknown_text'for i in x])\n",
    "\n",
    "conversations['names'] = conversations['characters'].apply(lambda x: [chars[i] if i \\\n",
    "                                                                      in chars.keys() else 'unknown_character 'for i in x])\n",
    "\n",
    "conversations_new = conversations[['movieID', 'chrono', 'characters', \n",
    "                                   'genders', 'replics', 'names']]\n",
    "\n",
    "\n",
    "\n",
    "df = conversations_new.merge(titles_new, on='movieID', how='left')\n",
    "df.to_csv('films_prepared_v2.csv', index=False)"
   ]
  },
  {
   "cell_type": "code",
   "execution_count": 42,
   "id": "644f9f94",
   "metadata": {},
   "outputs": [],
   "source": [
    "df = pd.read_csv('films_prepared_v2.csv')"
   ]
  },
  {
   "cell_type": "code",
   "execution_count": 43,
   "id": "72020bf8",
   "metadata": {},
   "outputs": [
    {
     "data": {
      "text/html": [
       "<div>\n",
       "<style scoped>\n",
       "    .dataframe tbody tr th:only-of-type {\n",
       "        vertical-align: middle;\n",
       "    }\n",
       "\n",
       "    .dataframe tbody tr th {\n",
       "        vertical-align: top;\n",
       "    }\n",
       "\n",
       "    .dataframe thead th {\n",
       "        text-align: right;\n",
       "    }\n",
       "</style>\n",
       "<table border=\"1\" class=\"dataframe\">\n",
       "  <thead>\n",
       "    <tr style=\"text-align: right;\">\n",
       "      <th></th>\n",
       "      <th>movieID</th>\n",
       "      <th>chrono</th>\n",
       "      <th>characters</th>\n",
       "      <th>replics</th>\n",
       "      <th>names</th>\n",
       "      <th>movie_title</th>\n",
       "      <th>genres</th>\n",
       "    </tr>\n",
       "  </thead>\n",
       "  <tbody>\n",
       "    <tr>\n",
       "      <th>0</th>\n",
       "      <td>m0</td>\n",
       "      <td>['L194', 'L195', 'L196', 'L197']</td>\n",
       "      <td>['u0', 'u2', 'u0', 'u2']</td>\n",
       "      <td>['Can we make this quick?  Roxanne Korrine and...</td>\n",
       "      <td>['BIANCA', 'CAMERON', 'BIANCA', 'CAMERON']</td>\n",
       "      <td>10 things i hate about you</td>\n",
       "      <td>['comedy', 'romance']</td>\n",
       "    </tr>\n",
       "    <tr>\n",
       "      <th>1</th>\n",
       "      <td>m0</td>\n",
       "      <td>['L198', 'L199']</td>\n",
       "      <td>['u0', 'u2']</td>\n",
       "      <td>[\"You're asking me out.  That's so cute. What'...</td>\n",
       "      <td>['BIANCA', 'CAMERON']</td>\n",
       "      <td>10 things i hate about you</td>\n",
       "      <td>['comedy', 'romance']</td>\n",
       "    </tr>\n",
       "    <tr>\n",
       "      <th>2</th>\n",
       "      <td>m0</td>\n",
       "      <td>['L200', 'L201', 'L202', 'L203']</td>\n",
       "      <td>['u0', 'u2', 'u0', 'u2']</td>\n",
       "      <td>[\"No no it's my fault -- we didn't have a prop...</td>\n",
       "      <td>['BIANCA', 'CAMERON', 'BIANCA', 'CAMERON']</td>\n",
       "      <td>10 things i hate about you</td>\n",
       "      <td>['comedy', 'romance']</td>\n",
       "    </tr>\n",
       "    <tr>\n",
       "      <th>3</th>\n",
       "      <td>m0</td>\n",
       "      <td>['L204', 'L205', 'L206']</td>\n",
       "      <td>['u2', 'u0', 'u2']</td>\n",
       "      <td>['Why?', 'Unsolved mystery.  She used to be re...</td>\n",
       "      <td>['CAMERON', 'BIANCA', 'CAMERON']</td>\n",
       "      <td>10 things i hate about you</td>\n",
       "      <td>['comedy', 'romance']</td>\n",
       "    </tr>\n",
       "    <tr>\n",
       "      <th>4</th>\n",
       "      <td>m0</td>\n",
       "      <td>['L207', 'L208']</td>\n",
       "      <td>['u0', 'u2']</td>\n",
       "      <td>['Gosh if only we could find Kat a boyfriend.....</td>\n",
       "      <td>['BIANCA', 'CAMERON']</td>\n",
       "      <td>10 things i hate about you</td>\n",
       "      <td>['comedy', 'romance']</td>\n",
       "    </tr>\n",
       "    <tr>\n",
       "      <th>...</th>\n",
       "      <td>...</td>\n",
       "      <td>...</td>\n",
       "      <td>...</td>\n",
       "      <td>...</td>\n",
       "      <td>...</td>\n",
       "      <td>...</td>\n",
       "      <td>...</td>\n",
       "    </tr>\n",
       "    <tr>\n",
       "      <th>83092</th>\n",
       "      <td>m616</td>\n",
       "      <td>['L666324', 'L666325', 'L666326', 'L666327']</td>\n",
       "      <td>['u9028', 'u9031', 'u9028', 'u9031']</td>\n",
       "      <td>['Do you think she might be interested in  som...</td>\n",
       "      <td>['COGHILL', 'MELVILL', 'COGHILL', 'MELVILL']</td>\n",
       "      <td>zulu dawn</td>\n",
       "      <td>['action', 'adventure', 'drama', 'history', 'w...</td>\n",
       "    </tr>\n",
       "    <tr>\n",
       "      <th>83093</th>\n",
       "      <td>m616</td>\n",
       "      <td>['L666575', 'L666576']</td>\n",
       "      <td>['u9028', 'u9031']</td>\n",
       "      <td>[\"Choose your targets men. That's right Watch ...</td>\n",
       "      <td>['COGHILL', 'MELVILL']</td>\n",
       "      <td>zulu dawn</td>\n",
       "      <td>['action', 'adventure', 'drama', 'history', 'w...</td>\n",
       "    </tr>\n",
       "    <tr>\n",
       "      <th>83094</th>\n",
       "      <td>m616</td>\n",
       "      <td>['L666256', 'L666257']</td>\n",
       "      <td>['u9034', 'u9030']</td>\n",
       "      <td>[\"Colonel Durnford... William Vereker. I hear ...</td>\n",
       "      <td>['VEREKER', 'DURNFORD']</td>\n",
       "      <td>zulu dawn</td>\n",
       "      <td>['action', 'adventure', 'drama', 'history', 'w...</td>\n",
       "    </tr>\n",
       "    <tr>\n",
       "      <th>83095</th>\n",
       "      <td>m616</td>\n",
       "      <td>['L666369', 'L666370', 'L666371', 'L666372']</td>\n",
       "      <td>['u9030', 'u9034', 'u9030', 'u9034']</td>\n",
       "      <td>['Your orders Mr Vereker?', \"I'm to take the S...</td>\n",
       "      <td>['DURNFORD', 'VEREKER', 'DURNFORD', 'VEREKER']</td>\n",
       "      <td>zulu dawn</td>\n",
       "      <td>['action', 'adventure', 'drama', 'history', 'w...</td>\n",
       "    </tr>\n",
       "    <tr>\n",
       "      <th>83096</th>\n",
       "      <td>m616</td>\n",
       "      <td>['L666520', 'L666521', 'L666522']</td>\n",
       "      <td>['u9034', 'u9030', 'u9034']</td>\n",
       "      <td>['Well I assure you Sir I have no desire to cr...</td>\n",
       "      <td>['VEREKER', 'DURNFORD', 'VEREKER']</td>\n",
       "      <td>zulu dawn</td>\n",
       "      <td>['action', 'adventure', 'drama', 'history', 'w...</td>\n",
       "    </tr>\n",
       "  </tbody>\n",
       "</table>\n",
       "<p>83097 rows × 7 columns</p>\n",
       "</div>"
      ],
      "text/plain": [
       "      movieID                                        chrono  \\\n",
       "0          m0              ['L194', 'L195', 'L196', 'L197']   \n",
       "1          m0                              ['L198', 'L199']   \n",
       "2          m0              ['L200', 'L201', 'L202', 'L203']   \n",
       "3          m0                      ['L204', 'L205', 'L206']   \n",
       "4          m0                              ['L207', 'L208']   \n",
       "...       ...                                           ...   \n",
       "83092    m616  ['L666324', 'L666325', 'L666326', 'L666327']   \n",
       "83093    m616                        ['L666575', 'L666576']   \n",
       "83094    m616                        ['L666256', 'L666257']   \n",
       "83095    m616  ['L666369', 'L666370', 'L666371', 'L666372']   \n",
       "83096    m616             ['L666520', 'L666521', 'L666522']   \n",
       "\n",
       "                                 characters  \\\n",
       "0                  ['u0', 'u2', 'u0', 'u2']   \n",
       "1                              ['u0', 'u2']   \n",
       "2                  ['u0', 'u2', 'u0', 'u2']   \n",
       "3                        ['u2', 'u0', 'u2']   \n",
       "4                              ['u0', 'u2']   \n",
       "...                                     ...   \n",
       "83092  ['u9028', 'u9031', 'u9028', 'u9031']   \n",
       "83093                    ['u9028', 'u9031']   \n",
       "83094                    ['u9034', 'u9030']   \n",
       "83095  ['u9030', 'u9034', 'u9030', 'u9034']   \n",
       "83096           ['u9034', 'u9030', 'u9034']   \n",
       "\n",
       "                                                 replics  \\\n",
       "0      ['Can we make this quick?  Roxanne Korrine and...   \n",
       "1      [\"You're asking me out.  That's so cute. What'...   \n",
       "2      [\"No no it's my fault -- we didn't have a prop...   \n",
       "3      ['Why?', 'Unsolved mystery.  She used to be re...   \n",
       "4      ['Gosh if only we could find Kat a boyfriend.....   \n",
       "...                                                  ...   \n",
       "83092  ['Do you think she might be interested in  som...   \n",
       "83093  [\"Choose your targets men. That's right Watch ...   \n",
       "83094  [\"Colonel Durnford... William Vereker. I hear ...   \n",
       "83095  ['Your orders Mr Vereker?', \"I'm to take the S...   \n",
       "83096  ['Well I assure you Sir I have no desire to cr...   \n",
       "\n",
       "                                                names  \\\n",
       "0          ['BIANCA', 'CAMERON', 'BIANCA', 'CAMERON']   \n",
       "1                               ['BIANCA', 'CAMERON']   \n",
       "2          ['BIANCA', 'CAMERON', 'BIANCA', 'CAMERON']   \n",
       "3                    ['CAMERON', 'BIANCA', 'CAMERON']   \n",
       "4                               ['BIANCA', 'CAMERON']   \n",
       "...                                               ...   \n",
       "83092    ['COGHILL', 'MELVILL', 'COGHILL', 'MELVILL']   \n",
       "83093                          ['COGHILL', 'MELVILL']   \n",
       "83094                         ['VEREKER', 'DURNFORD']   \n",
       "83095  ['DURNFORD', 'VEREKER', 'DURNFORD', 'VEREKER']   \n",
       "83096              ['VEREKER', 'DURNFORD', 'VEREKER']   \n",
       "\n",
       "                      movie_title  \\\n",
       "0      10 things i hate about you   \n",
       "1      10 things i hate about you   \n",
       "2      10 things i hate about you   \n",
       "3      10 things i hate about you   \n",
       "4      10 things i hate about you   \n",
       "...                           ...   \n",
       "83092                   zulu dawn   \n",
       "83093                   zulu dawn   \n",
       "83094                   zulu dawn   \n",
       "83095                   zulu dawn   \n",
       "83096                   zulu dawn   \n",
       "\n",
       "                                                  genres  \n",
       "0                                  ['comedy', 'romance']  \n",
       "1                                  ['comedy', 'romance']  \n",
       "2                                  ['comedy', 'romance']  \n",
       "3                                  ['comedy', 'romance']  \n",
       "4                                  ['comedy', 'romance']  \n",
       "...                                                  ...  \n",
       "83092  ['action', 'adventure', 'drama', 'history', 'w...  \n",
       "83093  ['action', 'adventure', 'drama', 'history', 'w...  \n",
       "83094  ['action', 'adventure', 'drama', 'history', 'w...  \n",
       "83095  ['action', 'adventure', 'drama', 'history', 'w...  \n",
       "83096  ['action', 'adventure', 'drama', 'history', 'w...  \n",
       "\n",
       "[83097 rows x 7 columns]"
      ]
     },
     "execution_count": 43,
     "metadata": {},
     "output_type": "execute_result"
    }
   ],
   "source": [
    "df"
   ]
  },
  {
   "cell_type": "code",
   "execution_count": 44,
   "id": "19ecd290",
   "metadata": {},
   "outputs": [
    {
     "name": "stderr",
     "output_type": "stream",
     "text": [
      "emoji is not installed, thus not converting emoticons or emojis into text. Install emoji: pip3 install emoji==0.6.0\n"
     ]
    }
   ],
   "source": [
    "from transformers import AutoTokenizer, AutoModelForSequenceClassification\n",
    "\n",
    "tokenizer = AutoTokenizer.from_pretrained(\"finiteautomata/bertweet-base-sentiment-analysis\")\n",
    "\n",
    "model = AutoModelForSequenceClassification.from_pretrained(\"finiteautomata/bertweet-base-sentiment-analysis\")"
   ]
  },
  {
   "cell_type": "code",
   "execution_count": 45,
   "id": "1f7ff836",
   "metadata": {},
   "outputs": [],
   "source": [
    "df.replics = df.replics.apply(lambda x: eval(x))\n",
    "df.names = df.names.apply(lambda x: eval(x))"
   ]
  },
  {
   "cell_type": "code",
   "execution_count": 46,
   "id": "e75fd8b3",
   "metadata": {},
   "outputs": [
    {
     "data": {
      "text/plain": [
       "movieID                                                      m40\n",
       "chrono                                    ['L110045', 'L110046']\n",
       "characters                                      ['u631', 'u641']\n",
       "replics         [I'll wait... back there., Hamish I... thank...]\n",
       "names                                          [HAMISH, WALLACE]\n",
       "movie_title                                           braveheart\n",
       "genres         ['action', 'biography', 'drama', 'history', 'w...\n",
       "Name: 5527, dtype: object"
      ]
     },
     "execution_count": 46,
     "metadata": {},
     "output_type": "execute_result"
    }
   ],
   "source": [
    "sample = df.iloc[5527]\n",
    "sample"
   ]
  },
  {
   "cell_type": "code",
   "execution_count": 66,
   "id": "0325c576",
   "metadata": {},
   "outputs": [],
   "source": [
    "def convert_to_dataset_torch(data: list):\n",
    "    input_ids = []\n",
    "    attention_masks = []\n",
    "    \n",
    "    for row in data:\n",
    "        encoded_dict = tokenizer.encode_plus(row, \n",
    "                                             max_length=130,\n",
    "                                             pad_to_max_length=True,\n",
    "                                             return_attention_mask=True, \n",
    "                                             return_tensors='pt', \n",
    "                                             truncation=True)\n",
    "\n",
    "        input_ids.append(encoded_dict['input_ids'])\n",
    "\n",
    "        attention_masks.append(encoded_dict['attention_mask'])\n",
    "        \n",
    "    input_ids = torch.cat(input_ids, dim=0)\n",
    "    attention_masks = torch.cat(attention_masks, dim=0)\n",
    "    input_ids.to(dtype=torch.long)\n",
    "    attention_masks.to(dtype=torch.long)\n",
    "    \n",
    "    return input_ids, attention_masks"
   ]
  },
  {
   "cell_type": "code",
   "execution_count": 48,
   "id": "0aa4ce1e",
   "metadata": {},
   "outputs": [
    {
     "name": "stderr",
     "output_type": "stream",
     "text": [
      "  0%|                                                                                            | 0/2 [00:00<?, ?it/s]C:\\Users\\mosto\\AppData\\Local\\Programs\\Python\\Python39\\lib\\site-packages\\transformers\\tokenization_utils_base.py:2301: FutureWarning: The `pad_to_max_length` argument is deprecated and will be removed in a future version, use `padding=True` or `padding='longest'` to pad to the longest sequence in the batch, or use `padding='max_length'` to pad to a max length. In this case, you can give a specific length with `max_length` (e.g. `max_length=45`) or leave max_length to None to pad to the maximal input size of the model (e.g. 512 for Bert).\n",
      "  warnings.warn(\n",
      "100%|███████████████████████████████████████████████████████████████████████████████████| 2/2 [00:00<00:00, 998.41it/s]\n"
     ]
    }
   ],
   "source": [
    "converted = convert_to_dataset_torch(sample.replics)"
   ]
  },
  {
   "cell_type": "code",
   "execution_count": 49,
   "id": "596544f9",
   "metadata": {},
   "outputs": [],
   "source": [
    "preds = model(input_ids=converted[0], \n",
    "      attention_mask=converted[1]).logits\n",
    "                                    "
   ]
  },
  {
   "cell_type": "code",
   "execution_count": 50,
   "id": "b7c9dfc6",
   "metadata": {},
   "outputs": [
    {
     "data": {
      "text/plain": [
       "tensor([[-2.5469,  2.4831,  0.2947],\n",
       "        [-3.3623,  1.8365,  1.7777]], grad_fn=<AddmmBackward0>)"
      ]
     },
     "execution_count": 50,
     "metadata": {},
     "output_type": "execute_result"
    }
   ],
   "source": [
    "preds"
   ]
  },
  {
   "cell_type": "code",
   "execution_count": 51,
   "id": "a35ba32e",
   "metadata": {},
   "outputs": [],
   "source": [
    "labels = [\n",
    "    'Positive',\n",
    "    'Negative',\n",
    "    'Neutral'\n",
    "]"
   ]
  },
  {
   "cell_type": "code",
   "execution_count": 52,
   "id": "1c781ab5",
   "metadata": {},
   "outputs": [],
   "source": [
    "mapping = {i: k for i, k in enumerate(labels)}"
   ]
  },
  {
   "cell_type": "code",
   "execution_count": 53,
   "id": "6e5764f9",
   "metadata": {},
   "outputs": [
    {
     "data": {
      "text/plain": [
       "{0: 'Positive', 1: 'Negative', 2: 'Neutral'}"
      ]
     },
     "execution_count": 53,
     "metadata": {},
     "output_type": "execute_result"
    }
   ],
   "source": [
    "mapping"
   ]
  },
  {
   "cell_type": "code",
   "execution_count": 54,
   "id": "2fca40d0",
   "metadata": {},
   "outputs": [
    {
     "name": "stderr",
     "output_type": "stream",
     "text": [
      "C:\\Users\\mosto\\AppData\\Local\\Temp\\ipykernel_9840\\1204985430.py:1: UserWarning: Implicit dimension choice for softmax has been deprecated. Change the call to include dim=X as an argument.\n",
      "  predictions = torch.argmax(torch.nn.Softmax()(preds), axis=1)\n"
     ]
    }
   ],
   "source": [
    "predictions = torch.argmax(torch.nn.Softmax()(preds), axis=1)"
   ]
  },
  {
   "cell_type": "code",
   "execution_count": 55,
   "id": "2055a2c1",
   "metadata": {},
   "outputs": [],
   "source": [
    "df_local = pd.DataFrame({'Speaker': sample.names,\n",
    "                         'Text': sample.replics,\n",
    "                         'Emotion': list(map(lambda x: mapping.get(x, None), predictions.numpy()))})"
   ]
  },
  {
   "cell_type": "code",
   "execution_count": 56,
   "id": "4117073a",
   "metadata": {},
   "outputs": [
    {
     "data": {
      "text/html": [
       "<div>\n",
       "<style scoped>\n",
       "    .dataframe tbody tr th:only-of-type {\n",
       "        vertical-align: middle;\n",
       "    }\n",
       "\n",
       "    .dataframe tbody tr th {\n",
       "        vertical-align: top;\n",
       "    }\n",
       "\n",
       "    .dataframe thead th {\n",
       "        text-align: right;\n",
       "    }\n",
       "</style>\n",
       "<table border=\"1\" class=\"dataframe\">\n",
       "  <thead>\n",
       "    <tr style=\"text-align: right;\">\n",
       "      <th></th>\n",
       "      <th>Speaker</th>\n",
       "      <th>Text</th>\n",
       "      <th>Emotion</th>\n",
       "    </tr>\n",
       "  </thead>\n",
       "  <tbody>\n",
       "    <tr>\n",
       "      <th>0</th>\n",
       "      <td>HAMISH</td>\n",
       "      <td>I'll wait... back there.</td>\n",
       "      <td>Negative</td>\n",
       "    </tr>\n",
       "    <tr>\n",
       "      <th>1</th>\n",
       "      <td>WALLACE</td>\n",
       "      <td>Hamish I... thank...</td>\n",
       "      <td>Negative</td>\n",
       "    </tr>\n",
       "  </tbody>\n",
       "</table>\n",
       "</div>"
      ],
      "text/plain": [
       "   Speaker                      Text   Emotion\n",
       "0   HAMISH  I'll wait... back there.  Negative\n",
       "1  WALLACE      Hamish I... thank...  Negative"
      ]
     },
     "execution_count": 56,
     "metadata": {},
     "output_type": "execute_result"
    }
   ],
   "source": [
    "df_local"
   ]
  },
  {
   "cell_type": "code",
   "execution_count": 57,
   "id": "7191bb7b",
   "metadata": {},
   "outputs": [],
   "source": [
    "emotion = df_local.groupby('Speaker')['Emotion'].value_counts(normalize=True)"
   ]
  },
  {
   "cell_type": "code",
   "execution_count": 58,
   "id": "e78bac26",
   "metadata": {},
   "outputs": [
    {
     "data": {
      "image/png": "[encoded data removed]",
      "text/plain": [
       "<Figure size 432x288 with 2 Axes>"
      ]
     },
     "metadata": {},
     "output_type": "display_data"
    }
   ],
   "source": [
    "import matplotlib.pyplot as plt\n",
    "fig = plt.figure()\n",
    "\n",
    "total_axes = df_local.Speaker.nunique()\n",
    "subplt = 1 # номер начального axes\n",
    "for x in emotion.index.get_level_values('Speaker').unique():\n",
    "    ax = fig.add_subplot(1, total_axes, subplt) # добавляем axes для каждого графика\n",
    "    plt.pie(emotion[x], labels=emotion[x].index.tolist(), autopct='%1.1f%%')\n",
    "    plt.xlabel(x)\n",
    "    subplt+=1\n",
    "\n",
    "plt.tight_layout()\n",
    "plt.show()"
   ]
  },
  {
   "cell_type": "markdown",
   "id": "7b6e264c",
   "metadata": {},
   "source": [
    "### Interface"
   ]
  },
  {
   "cell_type": "code",
   "execution_count": null,
   "id": "2b58305f",
   "metadata": {},
   "outputs": [],
   "source": []
  }
 ],
 "metadata": {
  "kernelspec": {
   "display_name": "Python 3 (ipykernel)",
   "language": "python",
   "name": "python3"
  },
  "language_info": {
   "codemirror_mode": {
    "name": "ipython",
    "version": 3
   },
   "file_extension": ".py",
   "mimetype": "text/x-python",
   "name": "python",
   "nbconvert_exporter": "python",
   "pygments_lexer": "ipython3",
   "version": "3.9.10"
  }
 },
 "nbformat": 4,
 "nbformat_minor": 5
}
