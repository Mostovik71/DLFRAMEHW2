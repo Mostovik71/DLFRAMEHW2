{
 "cells": [
  {
   "cell_type": "code",
   "execution_count": null,
   "metadata": {
    "execution": {
     "iopub.execute_input": "2023-06-12T11:22:38.677066Z",
     "iopub.status.busy": "2023-06-12T11:22:38.676800Z",
     "iopub.status.idle": "2023-06-12T11:22:42.902900Z",
     "shell.execute_reply": "2023-06-12T11:22:42.901689Z",
     "shell.execute_reply.started": "2023-06-12T11:22:38.677043Z"
    }
   },
   "outputs": [],
   "source": [
    "import pandas as pd\n",
    "import numpy as np\n",
    "import torch\n",
    "from tqdm import tqdm"
   ]
  },
  {
   "cell_type": "code",
   "execution_count": null,
   "metadata": {
    "execution": {
     "iopub.execute_input": "2023-06-12T11:23:55.241692Z",
     "iopub.status.busy": "2023-06-12T11:23:55.241072Z",
     "iopub.status.idle": "2023-06-12T11:23:55.246759Z",
     "shell.execute_reply": "2023-06-12T11:23:55.245709Z",
     "shell.execute_reply.started": "2023-06-12T11:23:55.241657Z"
    }
   },
   "outputs": [],
   "source": [
    "from torch.utils.data import DataLoader, RandomSampler, SequentialSampler, Sampler, TensorDataset"
   ]
  },
  {
   "cell_type": "code",
   "execution_count": null,
   "metadata": {
    "execution": {
     "iopub.execute_input": "2023-06-12T11:22:42.905486Z",
     "iopub.status.busy": "2023-06-12T11:22:42.904861Z",
     "iopub.status.idle": "2023-06-12T11:23:00.107859Z",
     "shell.execute_reply": "2023-06-12T11:23:00.106879Z",
     "shell.execute_reply.started": "2023-06-12T11:22:42.905451Z"
    }
   },
   "outputs": [],
   "source": [
    "from transformers import AutoTokenizer, AutoModelForSequenceClassification\n",
    "tokenizer = AutoTokenizer.from_pretrained(\"finiteautomata/bertweet-base-sentiment-analysis\")\n",
    "model = AutoModelForSequenceClassification.from_pretrained(\"finiteautomata/bertweet-base-sentiment-analysis\")"
   ]
  },
  {
   "cell_type": "code",
   "execution_count": null,
   "metadata": {
    "execution": {
     "iopub.execute_input": "2023-06-12T11:23:00.109497Z",
     "iopub.status.busy": "2023-06-12T11:23:00.109151Z",
     "iopub.status.idle": "2023-06-12T11:23:04.966530Z",
     "shell.execute_reply": "2023-06-12T11:23:04.965075Z",
     "shell.execute_reply.started": "2023-06-12T11:23:00.109467Z"
    }
   },
   "outputs": [],
   "source": [
    "model.to('cuda:0')"
   ]
  },
  {
   "cell_type": "code",
   "execution_count": null,
   "metadata": {
    "execution": {
     "iopub.execute_input": "2023-06-12T11:23:04.969651Z",
     "iopub.status.busy": "2023-06-12T11:23:04.969086Z",
     "iopub.status.idle": "2023-06-12T11:23:05.987114Z",
     "shell.execute_reply": "2023-06-12T11:23:05.985347Z",
     "shell.execute_reply.started": "2023-06-12T11:23:04.969617Z"
    }
   },
   "outputs": [],
   "source": [
    "df = pd.read_csv('/kaggle/input/nlpdlfr/films_prepared_v3.csv')"
   ]
  },
  {
   "cell_type": "code",
   "execution_count": null,
   "metadata": {
    "execution": {
     "iopub.execute_input": "2023-06-12T11:23:05.988903Z",
     "iopub.status.busy": "2023-06-12T11:23:05.988555Z",
     "iopub.status.idle": "2023-06-12T11:23:06.379965Z",
     "shell.execute_reply": "2023-06-12T11:23:06.378703Z",
     "shell.execute_reply.started": "2023-06-12T11:23:05.988870Z"
    }
   },
   "outputs": [],
   "source": [
    "df.drop('characters.1', inplace=True, axis=1)"
   ]
  },
  {
   "cell_type": "code",
   "execution_count": null,
   "metadata": {
    "execution": {
     "iopub.execute_input": "2023-06-12T11:23:06.385838Z",
     "iopub.status.busy": "2023-06-12T11:23:06.384999Z",
     "iopub.status.idle": "2023-06-12T11:23:11.165767Z",
     "shell.execute_reply": "2023-06-12T11:23:11.164672Z",
     "shell.execute_reply.started": "2023-06-12T11:23:06.385801Z"
    }
   },
   "outputs": [],
   "source": [
    "df.replics = df.replics.apply(lambda x: eval(x))\n",
    "df.chrono = df.chrono.apply(lambda x: eval(x))\n",
    "df.characters = df.characters.apply(lambda x: eval(x))\n",
    "df.genders = df.genders.apply(lambda x: eval(x))\n",
    "df.genders = df.genders.apply(lambda x: x if '?' not in x else np.nan)\n",
    "\n",
    "df['replics_len'] = df.replics.apply(lambda x: len(x))\n",
    "\n",
    "df_new = df[df.replics_len < 5]\n",
    "df_new.dropna(inplace=True)\n",
    "df_new = df_new.sample(200, random_state=18) # Выберем 200 диалогов небольшой длины\n",
    "df_new.reset_index(inplace=True, drop=True)"
   ]
  },
  {
   "cell_type": "code",
   "execution_count": null,
   "metadata": {
    "execution": {
     "iopub.execute_input": "2023-06-12T11:23:11.167807Z",
     "iopub.status.busy": "2023-06-12T11:23:11.167388Z",
     "iopub.status.idle": "2023-06-12T11:23:11.209464Z",
     "shell.execute_reply": "2023-06-12T11:23:11.208265Z",
     "shell.execute_reply.started": "2023-06-12T11:23:11.167768Z"
    }
   },
   "outputs": [],
   "source": [
    "df_new"
   ]
  },
  {
   "cell_type": "code",
   "execution_count": null,
   "metadata": {
    "execution": {
     "iopub.execute_input": "2023-06-12T11:23:11.213117Z",
     "iopub.status.busy": "2023-06-12T11:23:11.212693Z",
     "iopub.status.idle": "2023-06-12T11:23:11.404768Z",
     "shell.execute_reply": "2023-06-12T11:23:11.403703Z",
     "shell.execute_reply.started": "2023-06-12T11:23:11.213078Z"
    }
   },
   "outputs": [],
   "source": [
    "def convert_to_dataset_torch(data: str):\n",
    "    input_ids = []\n",
    "    attention_masks = []\n",
    "    \n",
    "    encoded_dict = tokenizer.encode_plus(data, \n",
    "                                             max_length=130,\n",
    "                                             pad_to_max_length=True,\n",
    "                                             return_attention_mask=True, \n",
    "                                             return_tensors='pt', \n",
    "                                             truncation=True)\n",
    "\n",
    "    input_ids.append(encoded_dict['input_ids'])\n",
    "\n",
    "    attention_masks.append(encoded_dict['attention_mask'])\n",
    "        \n",
    "    input_ids = torch.cat(input_ids, dim=0)\n",
    "    attention_masks = torch.cat(attention_masks, dim=0)\n",
    "    input_ids.to(dtype=torch.long)\n",
    "    attention_masks.to(dtype=torch.long)\n",
    "    \n",
    "    return input_ids, attention_masks"
   ]
  },
  {
   "cell_type": "code",
   "execution_count": null,
   "metadata": {
    "execution": {
     "iopub.execute_input": "2023-06-12T11:23:11.406415Z",
     "iopub.status.busy": "2023-06-12T11:23:11.406081Z",
     "iopub.status.idle": "2023-06-12T11:23:11.417107Z",
     "shell.execute_reply": "2023-06-12T11:23:11.416240Z",
     "shell.execute_reply.started": "2023-06-12T11:23:11.406379Z"
    }
   },
   "outputs": [],
   "source": [
    "labels = [\n",
    "    'Positive',\n",
    "    'Negative',\n",
    "    'Neutral'\n",
    "]\n",
    "mapping = {i: k for i, k in enumerate(labels)}"
   ]
  },
  {
   "cell_type": "code",
   "execution_count": null,
   "metadata": {
    "execution": {
     "iopub.execute_input": "2023-06-11T18:13:27.070909Z",
     "iopub.status.busy": "2023-06-11T18:13:27.070521Z",
     "iopub.status.idle": "2023-06-11T18:13:34.817406Z",
     "shell.execute_reply": "2023-06-11T18:13:34.816374Z",
     "shell.execute_reply.started": "2023-06-11T18:13:27.070876Z"
    }
   },
   "outputs": [],
   "source": [
    "# Разметка данных\n",
    "\n",
    "preds_all = []\n",
    "for i in tqdm(df_new.replics):\n",
    "    preds_dial = []\n",
    "    for k in i:\n",
    "        converted = convert_to_dataset_torch(k)\n",
    "        preds = model(input_ids=converted[0].to('cuda:0'), \n",
    "                      attention_mask=converted[1].to('cuda:0')).logits\n",
    "        predictions = torch.argmax(torch.nn.Softmax()(preds), axis=1)\n",
    "        preds_dial.append(predictions.item())\n",
    "    preds_all.append(preds_dial)\n",
    "        \n",
    "      "
   ]
  },
  {
   "cell_type": "code",
   "execution_count": null,
   "metadata": {
    "execution": {
     "iopub.execute_input": "2023-06-11T18:13:38.211153Z",
     "iopub.status.busy": "2023-06-11T18:13:38.210782Z",
     "iopub.status.idle": "2023-06-11T18:13:38.216443Z",
     "shell.execute_reply": "2023-06-11T18:13:38.215469Z",
     "shell.execute_reply.started": "2023-06-11T18:13:38.211125Z"
    }
   },
   "outputs": [],
   "source": [
    "df_new['predictions'] = pd.Series(preds_all)"
   ]
  },
  {
   "cell_type": "code",
   "execution_count": null,
   "metadata": {
    "execution": {
     "iopub.execute_input": "2023-06-11T18:13:46.283351Z",
     "iopub.status.busy": "2023-06-11T18:13:46.282973Z",
     "iopub.status.idle": "2023-06-11T18:13:46.320055Z",
     "shell.execute_reply": "2023-06-11T18:13:46.319083Z",
     "shell.execute_reply.started": "2023-06-11T18:13:46.283324Z"
    }
   },
   "outputs": [],
   "source": [
    "df_new"
   ]
  },
  {
   "cell_type": "code",
   "execution_count": null,
   "metadata": {
    "execution": {
     "iopub.execute_input": "2023-06-11T18:14:04.721716Z",
     "iopub.status.busy": "2023-06-11T18:14:04.721333Z",
     "iopub.status.idle": "2023-06-11T18:14:04.734202Z",
     "shell.execute_reply": "2023-06-11T18:14:04.733116Z",
     "shell.execute_reply.started": "2023-06-11T18:14:04.721687Z"
    }
   },
   "outputs": [],
   "source": [
    "df_new.to_csv('labeled_v2.csv')"
   ]
  },
  {
   "cell_type": "code",
   "execution_count": null,
   "metadata": {},
   "outputs": [],
   "source": []
  }
 ],
 "metadata": {
  "kernelspec": {
   "display_name": "Python 3 (ipykernel)",
   "language": "python",
   "name": "python3"
  },
  "language_info": {
   "codemirror_mode": {
    "name": "ipython",
    "version": 3
   },
   "file_extension": ".py",
   "mimetype": "text/x-python",
   "name": "python",
   "nbconvert_exporter": "python",
   "pygments_lexer": "ipython3",
   "version": "3.9.10"
  }
 },
 "nbformat": 4,
 "nbformat_minor": 4
}
