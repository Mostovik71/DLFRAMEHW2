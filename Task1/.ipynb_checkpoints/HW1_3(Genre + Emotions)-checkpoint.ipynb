{
 "cells": [
  {
   "cell_type": "code",
   "execution_count": null,
   "id": "507f484b",
   "metadata": {},
   "outputs": [],
   "source": [
    "import pandas as pd\n",
    "import gradio as gr"
   ]
  },
  {
   "cell_type": "code",
   "execution_count": null,
   "id": "88a79ac5",
   "metadata": {},
   "outputs": [],
   "source": [
    "df = pd.read_csv('labeled_v2.csv')\n",
    "df.drop('Unnamed: 0', inplace=True, axis=1)\n",
    "df.replics = df.replics.apply(lambda x: eval(x))\n",
    "df.chrono = df.chrono.apply(lambda x: eval(x))\n",
    "df.characters = df.characters.apply(lambda x: eval(x))\n",
    "df.genders = df.genders.apply(lambda x: eval(x))\n",
    "df.genres = df.genres.apply(lambda x: eval(x))\n",
    "df.predictions = df.predictions.apply(lambda x: eval(x))\n",
    "df.genders = df.genders.apply(lambda x: ['Мужчина' if i in ['m', 'M'] else 'Женщина' for i in x])"
   ]
  },
  {
   "cell_type": "code",
   "execution_count": null,
   "id": "deae2dae",
   "metadata": {},
   "outputs": [],
   "source": [
    "labels = [\n",
    "    'Positive',\n",
    "    'Negative',\n",
    "    'Neutral'\n",
    "]\n",
    "mapping = {i: k for i, k in enumerate(labels)}\n",
    "df.predictions = df.predictions.apply(lambda x: [*map(mapping.get, x)])"
   ]
  },
  {
   "cell_type": "code",
   "execution_count": null,
   "id": "853c8f5a",
   "metadata": {},
   "outputs": [],
   "source": [
    "available_genres = df.genres.explode().unique().tolist()"
   ]
  },
  {
   "cell_type": "code",
   "execution_count": null,
   "id": "e8ad48f2",
   "metadata": {},
   "outputs": [],
   "source": [
    "def genres_stat(genre): \n",
    "\n",
    "    df['need_genre'] = df.genres.apply(lambda x: True if genre in x else False)\n",
    "    df_final = df.query('need_genre == True')\n",
    "    df_final.reset_index(inplace=True, drop=True)\n",
    "    df_final = df_final[['characters', 'genders', 'predictions']]\n",
    "    df_final = df_final.explode(['characters', 'genders', 'predictions'])\n",
    "    df_final = df_final.groupby('genders')['predictions'].value_counts(normalize=True)\n",
    "    import matplotlib.pyplot as plt\n",
    "    fig = plt.figure()\n",
    "\n",
    "    total_axes = 2 # Ставим 2, т.к. есть всего 2 пола\n",
    "    subplt = 1 # номер начального axes\n",
    "    for x in df_final.index.get_level_values('genders').unique():\n",
    "        ax = fig.add_subplot(1, total_axes, subplt) # добавляем axes для каждого графика\n",
    "        plt.pie(df_final[x], labels=df_final[x].index.tolist(), autopct='%1.1f%%', textprops={'color':\"w\"})\n",
    "        plt.xlabel(x).set_color('white')\n",
    "        subplt+=1\n",
    "\n",
    "    return fig"
   ]
  },
  {
   "cell_type": "code",
   "execution_count": null,
   "id": "f806d0fd",
   "metadata": {},
   "outputs": [],
   "source": [
    "theme = gr.themes.Monochrome(primary_hue=\"blue\", secondary_hue=\"blue\").set(\n",
    "    button_primary_background_fill=\"#FF0000\",\n",
    "    button_primary_background_fill_hover=\"*button_primary_background_fill\",\n",
    ")"
   ]
  },
  {
   "cell_type": "code",
   "execution_count": null,
   "id": "d6d27e52",
   "metadata": {},
   "outputs": [],
   "source": [
    "%%capture\n",
    "with gr.Blocks(theme=theme) as demo:\n",
    "    with gr.Row():\n",
    "        gen = gr.Dropdown(available_genres, label='Жанр')\n",
    "        btn = gr.Button(value=\"Получить статистику по эмоциям\")\n",
    "    with gr.Row():\n",
    "        with gr.Column(scale=1, min_width=400):\n",
    "            btn.click(genres_stat, inputs=gen, outputs=gr.Plot(label='Статистика'))\n",
    "            "
   ]
  },
  {
   "cell_type": "code",
   "execution_count": null,
   "id": "dc65af31",
   "metadata": {},
   "outputs": [],
   "source": [
    "demo.launch()"
   ]
  },
  {
   "cell_type": "code",
   "execution_count": null,
   "id": "0a537306",
   "metadata": {},
   "outputs": [],
   "source": []
  }
 ],
 "metadata": {
  "kernelspec": {
   "display_name": "Python 3 (ipykernel)",
   "language": "python",
   "name": "python3"
  },
  "language_info": {
   "codemirror_mode": {
    "name": "ipython",
    "version": 3
   },
   "file_extension": ".py",
   "mimetype": "text/x-python",
   "name": "python",
   "nbconvert_exporter": "python",
   "pygments_lexer": "ipython3",
   "version": "3.9.10"
  }
 },
 "nbformat": 4,
 "nbformat_minor": 5
}
