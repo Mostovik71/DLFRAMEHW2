{
 "cells": [
  {
   "cell_type": "code",
   "execution_count": null,
   "id": "509e1bfd",
   "metadata": {},
   "outputs": [],
   "source": [
    "import pandas as pd\n",
    "from transformers import pipeline\n",
    "import ray\n",
    "from ray import serve\n",
    "from fastapi import FastAPI\n",
    "from pydantic import PositiveInt, constr, BaseModel\n",
    "import requests\n",
    "from typing import List\n",
    "from transformers import pipeline\n",
    "import gradio as gr\n",
    "import matplotlib.pyplot as plt\n",
    "from ray.serve.gradio_integrations import GradioServer"
   ]
  },
  {
   "cell_type": "code",
   "execution_count": null,
   "id": "9d16606d",
   "metadata": {},
   "outputs": [],
   "source": [
    "df = pd.read_csv('films_prepared_v2.csv')\n",
    "df"
   ]
  },
  {
   "cell_type": "code",
   "execution_count": null,
   "id": "ab2d06e6",
   "metadata": {},
   "outputs": [],
   "source": [
    "!ray start --head"
   ]
  },
  {
   "cell_type": "code",
   "execution_count": null,
   "id": "ad0ebbb6",
   "metadata": {},
   "outputs": [],
   "source": [
    "@serve.deployment(route_prefix=\"/sentiment\", name=\"sentiment\")\n",
    "class SentimentDeployment:\n",
    "    def __init__(self):\n",
    "        self.classifier = pipeline(\"sentiment-analysis\",\n",
    "                                   model=\"finiteautomata/bertweet-base-sentiment-analysis\")\n",
    "\n",
    "    async def __call__(self, request):\n",
    "        data = await request.body()\n",
    "        [result] = self.classifier(str(data))\n",
    "        return result[\"label\"]"
   ]
  },
  {
   "cell_type": "code",
   "execution_count": null,
   "id": "7c656c3b",
   "metadata": {},
   "outputs": [],
   "source": [
    "ray.init(address='auto', namespace=\"serve-example\", ignore_reinit_error=True)\n",
    "serve.start(detached=True)\n",
    "\n",
    "SentimentDeployment.deploy()"
   ]
  },
  {
   "cell_type": "code",
   "execution_count": null,
   "id": "4564eb9f",
   "metadata": {},
   "outputs": [],
   "source": [
    "%%capture\n",
    "def emotio(texts):\n",
    "    texts = eval(texts)\n",
    "    speaker_1 = [k for i, k in enumerate(texts) if not i%2]\n",
    "    speaker_2 = [i for i in texts if i not in speaker_1]\n",
    "    speaker_1_ems = {}\n",
    "    speaker_2_ems = {}\n",
    "    for i in speaker_1:\n",
    "        result = requests.get(\"http://127.0.0.1:8000/sentiment\", data=i).text\n",
    "        speaker_1_ems[i] = result\n",
    "    for i in speaker_2:\n",
    "        result = requests.get(\"http://127.0.0.1:8000/sentiment\", data=i).text\n",
    "        speaker_2_ems[i] = result\n",
    "    df_sp1 = pd.DataFrame({'Speaker': 'Speaker_1',\n",
    "                       'Text': list(speaker_1_ems.keys()),\n",
    "                       'Emotion': list(speaker_1_ems.values())})\n",
    "    df_sp2 = pd.DataFrame({'Speaker': 'Speaker_2',\n",
    "                       'Text': list(speaker_2_ems.keys()),\n",
    "                       'Emotion': list(speaker_2_ems.values())})\n",
    "    emot = pd.concat([df_sp1, df_sp2]).groupby('Speaker')['Emotion'].value_counts(normalize=True)\n",
    "    \n",
    "    \n",
    "    fig = plt.figure()\n",
    "\n",
    "    total_axes = 2\n",
    "    subplt = 1 # номер начального axes\n",
    "    for x in emot.index.get_level_values('Speaker').unique():\n",
    "        ax = fig.add_subplot(1, total_axes, subplt) # добавляем axes для каждого графика\n",
    "        plt.pie(emot[x], labels=emot[x].index.tolist(), autopct='%1.1f%%')\n",
    "        plt.xlabel(x)\n",
    "        subplt+=1\n",
    "\n",
    "    \n",
    "    # plt.show()\n",
    "    \n",
    "    return fig\n"
   ]
  },
  {
   "cell_type": "code",
   "execution_count": null,
   "id": "5180e1e1",
   "metadata": {},
   "outputs": [],
   "source": [
    "%%capture\n",
    "def gradio_builder():\n",
    "    theme = gr.themes.Monochrome(primary_hue=\"blue\", secondary_hue=\"blue\").set(\n",
    "    button_primary_background_fill=\"#FF0000\",\n",
    "    button_primary_background_fill_hover=\"*button_primary_background_fill\",\n",
    "                                )\n",
    "    with gr.Blocks(theme=theme) as demo:\n",
    "        with gr.Row():\n",
    "            text = gr.Textbox(label=\"Input prompt\")\n",
    "            btn = gr.Button(value=\"Получить статистику по эмоциям\")\n",
    "        with gr.Row():\n",
    "            with gr.Column(scale=1, min_width=400):\n",
    "                btn.click(emotio, inputs=text, outputs=gr.Plot(label='Статистика'))\n",
    "    return demo"
   ]
  },
  {
   "cell_type": "code",
   "execution_count": null,
   "id": "939de6f9",
   "metadata": {},
   "outputs": [],
   "source": [
    "\n",
    "serve.run(\n",
    "    GradioServer.options(ray_actor_options={\"num_cpus\": 1}).bind(\n",
    "        gradio_builder\n",
    "    )\n",
    ")"
   ]
  },
  {
   "cell_type": "code",
   "execution_count": null,
   "id": "c953a581",
   "metadata": {},
   "outputs": [],
   "source": [
    "#http://localhost:8000"
   ]
  },
  {
   "cell_type": "code",
   "execution_count": null,
   "id": "1ca7ee50",
   "metadata": {},
   "outputs": [],
   "source": [
    "!ray stop --force "
   ]
  },
  {
   "cell_type": "code",
   "execution_count": null,
   "id": "1ccc8993",
   "metadata": {},
   "outputs": [],
   "source": []
  }
 ],
 "metadata": {
  "kernelspec": {
   "display_name": "Python 3 (ipykernel)",
   "language": "python",
   "name": "python3"
  },
  "language_info": {
   "codemirror_mode": {
    "name": "ipython",
    "version": 3
   },
   "file_extension": ".py",
   "mimetype": "text/x-python",
   "name": "python",
   "nbconvert_exporter": "python",
   "pygments_lexer": "ipython3",
   "version": "3.9.10"
  }
 },
 "nbformat": 4,
 "nbformat_minor": 5
}
